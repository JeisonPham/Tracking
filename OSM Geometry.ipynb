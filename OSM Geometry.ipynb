{
 "cells": [
  {
   "cell_type": "code",
   "execution_count": 1,
   "id": "a038266f",
   "metadata": {},
   "outputs": [
    {
     "data": {
      "image/svg+xml": [
       "<svg xmlns=\"http://www.w3.org/2000/svg\" xmlns:xlink=\"http://www.w3.org/1999/xlink\" width=\"100.0\" height=\"100.0\" viewBox=\"-117.16992108000001 32.720129920000005 3.160000019875042e-06 2.915999998975849e-05\" preserveAspectRatio=\"xMinYMin meet\"><g transform=\"matrix(1,0,0,-1,0,65.440289)\"><polyline fill=\"none\" stroke=\"#66cc99\" stroke-width=\"5.831999997951698e-07\" points=\"-117.16992,32.720131 -117.169919,32.720158\" opacity=\"0.8\" /></g></svg>"
      ],
      "text/plain": [
       "<shapely.geometry.linestring.LineString at 0x27113ba9988>"
      ]
     },
     "execution_count": 1,
     "metadata": {},
     "output_type": "execute_result"
    }
   ],
   "source": [
    "import pandas as pd\n",
    "import numpy as np\n",
    "import geopandas as gpd\n",
    "import matplotlib.pyplot as plt\n",
    "%matplotlib inline\n",
    "\n",
    "\n",
    "df_places = gpd.read_file('C:\\\\Users\\\\Jason\\\\Sumo\\\\2022-09-06-15-58-13\\\\output.geojson')\n",
    "df_places['geometry'][100]"
   ]
  },
  {
   "cell_type": "code",
   "execution_count": 2,
   "id": "fb0526fa",
   "metadata": {},
   "outputs": [
    {
     "data": {
      "text/html": [
       "<div>\n",
       "<style scoped>\n",
       "    .dataframe tbody tr th:only-of-type {\n",
       "        vertical-align: middle;\n",
       "    }\n",
       "\n",
       "    .dataframe tbody tr th {\n",
       "        vertical-align: top;\n",
       "    }\n",
       "\n",
       "    .dataframe thead th {\n",
       "        text-align: right;\n",
       "    }\n",
       "</style>\n",
       "<table border=\"1\" class=\"dataframe\">\n",
       "  <thead>\n",
       "    <tr style=\"text-align: right;\">\n",
       "      <th></th>\n",
       "      <th>element</th>\n",
       "      <th>id</th>\n",
       "      <th>name</th>\n",
       "      <th>geometry</th>\n",
       "    </tr>\n",
       "  </thead>\n",
       "  <tbody>\n",
       "    <tr>\n",
       "      <th>0</th>\n",
       "      <td>lane</td>\n",
       "      <td>:1042017374_0_0</td>\n",
       "      <td></td>\n",
       "      <td>LINESTRING (-117.16827 32.71671, -117.16827 32...</td>\n",
       "    </tr>\n",
       "    <tr>\n",
       "      <th>1</th>\n",
       "      <td>lane</td>\n",
       "      <td>:1042017374_0_1</td>\n",
       "      <td></td>\n",
       "      <td>LINESTRING (-117.16830 32.71671, -117.16830 32...</td>\n",
       "    </tr>\n",
       "    <tr>\n",
       "      <th>2</th>\n",
       "      <td>lane</td>\n",
       "      <td>:1042017374_0_2</td>\n",
       "      <td></td>\n",
       "      <td>LINESTRING (-117.16833 32.71671, -117.16834 32...</td>\n",
       "    </tr>\n",
       "    <tr>\n",
       "      <th>3</th>\n",
       "      <td>lane</td>\n",
       "      <td>:1042017374_3_0</td>\n",
       "      <td></td>\n",
       "      <td>LINESTRING (-117.16837 32.71675, -117.16823 32...</td>\n",
       "    </tr>\n",
       "    <tr>\n",
       "      <th>4</th>\n",
       "      <td>lane</td>\n",
       "      <td>:1042017387_0_0</td>\n",
       "      <td></td>\n",
       "      <td>LINESTRING (-117.16650 32.71670, -117.16650 32...</td>\n",
       "    </tr>\n",
       "    <tr>\n",
       "      <th>...</th>\n",
       "      <td>...</td>\n",
       "      <td>...</td>\n",
       "      <td>...</td>\n",
       "      <td>...</td>\n",
       "    </tr>\n",
       "    <tr>\n",
       "      <th>10436</th>\n",
       "      <td>lane</td>\n",
       "      <td>960611283#0_0</td>\n",
       "      <td></td>\n",
       "      <td>LINESTRING (-117.15310 32.71774, -117.15310 32...</td>\n",
       "    </tr>\n",
       "    <tr>\n",
       "      <th>10437</th>\n",
       "      <td>lane</td>\n",
       "      <td>960611283#1_0</td>\n",
       "      <td></td>\n",
       "      <td>LINESTRING (-117.15319 32.71737, -117.15319 32...</td>\n",
       "    </tr>\n",
       "    <tr>\n",
       "      <th>10438</th>\n",
       "      <td>lane</td>\n",
       "      <td>960611284_0</td>\n",
       "      <td></td>\n",
       "      <td>LINESTRING (-117.15326 32.71739, -117.15326 32...</td>\n",
       "    </tr>\n",
       "    <tr>\n",
       "      <th>10439</th>\n",
       "      <td>lane</td>\n",
       "      <td>963476263_0</td>\n",
       "      <td></td>\n",
       "      <td>LINESTRING (-117.17007 32.72294, -117.17006 32...</td>\n",
       "    </tr>\n",
       "    <tr>\n",
       "      <th>10440</th>\n",
       "      <td>lane</td>\n",
       "      <td>963476264_0</td>\n",
       "      <td></td>\n",
       "      <td>LINESTRING (-117.16995 32.72244, -117.17001 32...</td>\n",
       "    </tr>\n",
       "  </tbody>\n",
       "</table>\n",
       "<p>10441 rows × 4 columns</p>\n",
       "</div>"
      ],
      "text/plain": [
       "      element               id name  \\\n",
       "0        lane  :1042017374_0_0        \n",
       "1        lane  :1042017374_0_1        \n",
       "2        lane  :1042017374_0_2        \n",
       "3        lane  :1042017374_3_0        \n",
       "4        lane  :1042017387_0_0        \n",
       "...       ...              ...  ...   \n",
       "10436    lane    960611283#0_0        \n",
       "10437    lane    960611283#1_0        \n",
       "10438    lane      960611284_0        \n",
       "10439    lane      963476263_0        \n",
       "10440    lane      963476264_0        \n",
       "\n",
       "                                                geometry  \n",
       "0      LINESTRING (-117.16827 32.71671, -117.16827 32...  \n",
       "1      LINESTRING (-117.16830 32.71671, -117.16830 32...  \n",
       "2      LINESTRING (-117.16833 32.71671, -117.16834 32...  \n",
       "3      LINESTRING (-117.16837 32.71675, -117.16823 32...  \n",
       "4      LINESTRING (-117.16650 32.71670, -117.16650 32...  \n",
       "...                                                  ...  \n",
       "10436  LINESTRING (-117.15310 32.71774, -117.15310 32...  \n",
       "10437  LINESTRING (-117.15319 32.71737, -117.15319 32...  \n",
       "10438  LINESTRING (-117.15326 32.71739, -117.15326 32...  \n",
       "10439  LINESTRING (-117.17007 32.72294, -117.17006 32...  \n",
       "10440  LINESTRING (-117.16995 32.72244, -117.17001 32...  \n",
       "\n",
       "[10441 rows x 4 columns]"
      ]
     },
     "execution_count": 2,
     "metadata": {},
     "output_type": "execute_result"
    }
   ],
   "source": [
    "df_places"
   ]
  },
  {
   "cell_type": "code",
   "execution_count": 6,
   "id": "c0107a4a",
   "metadata": {},
   "outputs": [
    {
     "data": {
      "text/plain": [
       "<AxesSubplot:>"
      ]
     },
     "execution_count": 6,
     "metadata": {},
     "output_type": "execute_result"
    },
    {
     "data": {
      "image/png": "[encoded data removed]",
      "text/plain": [
       "<Figure size 432x288 with 1 Axes>"
      ]
     },
     "metadata": {
      "needs_background": "light"
     },
     "output_type": "display_data"
    }
   ],
   "source": [
    "df_places[:100].plot()"
   ]
  },
  {
   "cell_type": "code",
   "execution_count": null,
   "id": "5a439cec",
   "metadata": {},
   "outputs": [],
   "source": []
  }
 ],
 "metadata": {
  "kernelspec": {
   "display_name": "Python 3 (ipykernel)",
   "language": "python",
   "name": "python3"
  },
  "language_info": {
   "codemirror_mode": {
    "name": "ipython",
    "version": 3
   },
   "file_extension": ".py",
   "mimetype": "text/x-python",
   "name": "python",
   "nbconvert_exporter": "python",
   "pygments_lexer": "ipython3",
   "version": "3.7.13"
  }
 },
 "nbformat": 4,
 "nbformat_minor": 5
}
